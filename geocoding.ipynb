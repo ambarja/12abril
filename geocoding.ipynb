{
  "cells": [
    {
      "cell_type": "markdown",
      "metadata": {
        "id": "view-in-github",
        "colab_type": "text"
      },
      "source": [
        "<a href=\"https://colab.research.google.com/github/ambarja/12abril/blob/main/geocoding.ipynb\" target=\"_parent\"><img src=\"https://colab.research.google.com/assets/colab-badge.svg\" alt=\"Open In Colab\"/></a>"
      ]
    },
    {
      "cell_type": "markdown",
      "metadata": {
        "id": "JlV6huXsEQ0E"
      },
      "source": [
        "<img src='https://raw.githubusercontent.com/geografope/geocodificacion-con-python/main/img/banner.png'>"
      ]
    },
    {
      "cell_type": "markdown",
      "source": [
        "Este tutorial fue elaboradro por **Geografo.PE**\n",
        "Redes sociales:\n",
        "- Youtube: www.youtube.com/@ambarja\n",
        "- Tiktok: https://www.tiktok.com/@geografo.pe\n",
        "- Linkdein: https://www.linkedin.com/in/antonybarja/\n",
        "- GitHub: https://github.com/geografope\n",
        "Para más información, puedes visitar mi pagina personal:*https://geografo.pe*"
      ],
      "metadata": {
        "id": "G_8NqYyOKOPl"
      }
    },
    {
      "cell_type": "markdown",
      "source": [
        "### **1.Instalación de librerias a utilizar**\n"
      ],
      "metadata": {
        "id": "wnmMnL1QXqRa"
      }
    },
    {
      "cell_type": "code",
      "execution_count": 4,
      "metadata": {
        "id": "8Y3pAmhjEKfc"
      },
      "outputs": [],
      "source": [
        "!pip install geopy\n",
        "!pip install pandas\n",
        "!pip install geopandas\n",
        "!pip install mapclassify"
      ]
    },
    {
      "cell_type": "markdown",
      "source": [
        "### **2.Llamado o activación de librerias**"
      ],
      "metadata": {
        "id": "7l44pRVyYk7X"
      }
    },
    {
      "cell_type": "code",
      "execution_count": 23,
      "metadata": {
        "id": "YCm5aUYJfWjt"
      },
      "outputs": [],
      "source": [
        "from geopy.geocoders import Nominatim, ArcGIS, MapBox\n",
        "import pandas as pd\n",
        "import geopandas as gpd\n",
        "from functools import partial"
      ]
    },
    {
      "cell_type": "markdown",
      "source": [
        "### **3.Lectura de los datos crudos en formato excel**"
      ],
      "metadata": {
        "id": "y4cj52EVY8lo"
      }
    },
    {
      "cell_type": "code",
      "execution_count": 24,
      "metadata": {
        "id": "RGrUk6O_eEDY"
      },
      "outputs": [],
      "source": [
        "url = 'https://github.com/geografope/geocodificacion-con-python/raw/main/rawdata/rawdata.xlsx'\n",
        "rawdata = pd.read_excel(url)"
      ]
    },
    {
      "cell_type": "markdown",
      "source": [
        "### **4.Función para estandarizar extructura de texto para geocodificar**"
      ],
      "metadata": {
        "id": "UTDT9kD89PSM"
      }
    },
    {
      "cell_type": "code",
      "source": [
        "# Forma estandar de la estructura del texto para geodificar con Nominatim:\n",
        "# direccion,distrito,provincia,departamento,pais\n",
        "# Ejemplo: \"Calle Los Angeles 123, Carabayllo, Lima, Lima, Perú\"\n",
        "def concatenar_campos(row):\n",
        "    return f\"{row['direccion']}, {row['distrito']}, {row['provincia']}, {row['departamento']}, Perú\""
      ],
      "metadata": {
        "id": "bm12Yjs6YFUP"
      },
      "execution_count": 25,
      "outputs": []
    },
    {
      "cell_type": "code",
      "execution_count": 20,
      "metadata": {
        "id": "UUabd8NViDWh"
      },
      "outputs": [],
      "source": [
        "rawdata['nogeo'] = rawdata.apply(concatenar_campos, axis= 1)\n",
        "#rawdata.head()"
      ]
    },
    {
      "cell_type": "code",
      "source": [
        "rawdata_for_osm = rawdata\n",
        "rawdata_for_mapbox = rawdata\n",
        "rawdata_for_arcgis = rawdata"
      ],
      "metadata": {
        "id": "QdWRYjT8LNFm"
      },
      "execution_count": null,
      "outputs": []
    },
    {
      "cell_type": "markdown",
      "source": [
        "### **5.Gecodificación directa con la API de OSM**\n",
        "- Nominatim: Es una herramienta open source que sirve para realizar proceso de geocodificación a través de OpenSteetMap.\n",
        "Referencia: *https://github.com/osm-search/Nominatim*"
      ],
      "metadata": {
        "id": "28uNbQrk9dOY"
      }
    },
    {
      "cell_type": "code",
      "execution_count": 42,
      "metadata": {
        "id": "cQpZU3pPhXWw"
      },
      "outputs": [],
      "source": [
        "# Gecodificación directa\n",
        "geolocator = Nominatim(user_agent=\"geografo_pe\",timeout = 5)\n",
        "geocode = partial(geolocator.geocode, language=\"es\")\n",
        "def tidygeocode(row):\n",
        "    location = geolocator.geocode(row['nogeo'])\n",
        "    if location:\n",
        "        return pd.Series({'latitude': location.latitude, 'longitude': location.longitude})\n",
        "    else:\n",
        "        return pd.Series({'latitude': None, 'longitude': None})"
      ]
    },
    {
      "cell_type": "code",
      "source": [
        "rawdata_for_osm[['latitude', 'longitude']] = rawdata_for_osm.apply(tidygeocode, axis=1)"
      ],
      "metadata": {
        "id": "k2wcaOnUZzW5"
      },
      "execution_count": null,
      "outputs": []
    },
    {
      "cell_type": "markdown",
      "source": [
        "### **6.Visualización de datos espaciales**"
      ],
      "metadata": {
        "id": "lgomjYoj9lqW"
      }
    },
    {
      "cell_type": "code",
      "execution_count": null,
      "metadata": {
        "id": "y2NcB8nNhbvh"
      },
      "outputs": [],
      "source": [
        "# Eliminar datos vacios\n",
        "geo_rawdata = rawdata_for_osm.dropna()\n",
        "# Dataframe a gepandas\n",
        "geo_rawdata = gpd.GeoDataFrame(data = geo_rawdata, geometry=gpd.points_from_xy(geo_rawdata.longitude, geo_rawdata.latitude),crs = 4326)"
      ]
    },
    {
      "cell_type": "code",
      "source": [
        "# Visualización interactiva\n",
        "geo_rawdata.explore(tiles = \"Esri.WorldImagery\",marker_kwds={'radius': 10} )"
      ],
      "metadata": {
        "id": "cL5iBx2qjgxY"
      },
      "execution_count": null,
      "outputs": []
    },
    {
      "cell_type": "markdown",
      "source": [
        "### **7.Geocodificación indirecta**"
      ],
      "metadata": {
        "id": "2ikE-iWF96kv"
      }
    },
    {
      "cell_type": "code",
      "execution_count": null,
      "metadata": {
        "id": "b4c2Sv8RhfDO"
      },
      "outputs": [],
      "source": [
        "# Geocodificación indirecta\n",
        "def tidygeocode_inv(row):\n",
        "  adress = geolocator.reverse([row['latitude'],row['longitude']])\n",
        "  return(adress)"
      ]
    },
    {
      "cell_type": "code",
      "source": [
        "geo_rawdata['direccion_geo_inv'] = geo_rawdata.apply(tidygeocode_inv, axis = 1)"
      ],
      "metadata": {
        "id": "L_aMTzqNWKXr"
      },
      "execution_count": null,
      "outputs": []
    },
    {
      "cell_type": "code",
      "source": [
        "geo_rawdata"
      ],
      "metadata": {
        "id": "B9-pxGawWrwH"
      },
      "execution_count": null,
      "outputs": []
    },
    {
      "cell_type": "markdown",
      "source": [
        "### **8.Exportar datos espaciales**"
      ],
      "metadata": {
        "id": "xwJZ-2wk9_U1"
      }
    },
    {
      "cell_type": "code",
      "execution_count": null,
      "metadata": {
        "id": "jRPqMFYohiLH"
      },
      "outputs": [],
      "source": [
        "# Exportar datos en formato gpkg\n",
        "geo_rawdata.to_file('geocoding_directo.gpkg')\n",
        "geo_rawdata.to_file('geocoding_indirecto.gpkg')"
      ]
    },
    {
      "cell_type": "markdown",
      "source": [
        "### **9.Gecodificación usando la API de MapBox**\n",
        "Para poder optener nuestra API de MapBox tenemos que registrarnos en el siguiente enlace:\n",
        " - Registro: *https://account.mapbox.com/auth/signup/*\n",
        " - Activar API: *https://account.mapbox.com/access-tokens/create*\n",
        "\n",
        "#### *Geocodificación gratis: 100 000 al mes*"
      ],
      "metadata": {
        "id": "3ggsxWNc-MDq"
      }
    },
    {
      "cell_type": "code",
      "source": [
        "api_mapbox = 'PON_AQUI_TU_API_KEY'\n",
        "geolocator = MapBox(api_key = api_mapbox)\n",
        "def tidygeocode(row):\n",
        "    location = geolocator.geocode(row['nogeo'])\n",
        "    if location:\n",
        "        return pd.Series({'latitude': location.latitude, 'longitude': location.longitude})\n",
        "    else:\n",
        "        return pd.Series({'latitude': None, 'longitude': None})"
      ],
      "metadata": {
        "id": "UX43Gv_i-gYY"
      },
      "execution_count": 9,
      "outputs": []
    },
    {
      "cell_type": "code",
      "source": [
        "rawdata_for_mapbox[['latitude', 'longitude']] = rawdata_for_mapbox.apply(tidygeocode, axis=1)"
      ],
      "metadata": {
        "id": "Ej-p07RwCW5m"
      },
      "execution_count": 10,
      "outputs": []
    },
    {
      "cell_type": "markdown",
      "source": [
        "### **10.Gecodificación usando la API de ArcGIS**\n",
        "Para poder optener nuestra API de ArcGIS tenemos que registrarnos en el siguiente enlace:\n",
        " * Registro: *https://developers.arcgis.com/sign-up/*\n",
        " * Activar API: *https://developers.arcgis.com/dashboard/#*\n",
        "\n",
        "#### *Geocodificación gratis: 20 000 gratis*"
      ],
      "metadata": {
        "id": "PVudz9Xi-Vq9"
      }
    },
    {
      "cell_type": "code",
      "source": [
        "api_arcgis = 'PON_AQUI_TU_API_KEY'\n",
        "geolocator = ArcGIS(auth_domain = api_arcgis)\n",
        "def tidygeocode(row):\n",
        "    location = geolocator.geocode(row['nogeo'])\n",
        "    if location:\n",
        "        return pd.Series({'latitude': location.latitude, 'longitude': location.longitude})\n",
        "    else:\n",
        "        return pd.Series({'latitude': None, 'longitude': None})"
      ],
      "metadata": {
        "id": "e5sIsifs-gxx"
      },
      "execution_count": 16,
      "outputs": []
    },
    {
      "cell_type": "code",
      "source": [
        "rawdata_for_arcgis[['latitude', 'longitude']] = rawdata_for_arcgis.apply(tidygeocode, axis=1)"
      ],
      "metadata": {
        "id": "SoGySMI3DADB"
      },
      "execution_count": 21,
      "outputs": []
    }
  ],
  "metadata": {
    "colab": {
      "provenance": [],
      "toc_visible": true,
      "authorship_tag": "ABX9TyMox/SV815RM2GVaUfhVbDB",
      "include_colab_link": true
    },
    "kernelspec": {
      "display_name": "Python 3",
      "name": "python3"
    },
    "language_info": {
      "name": "python"
    }
  },
  "nbformat": 4,
  "nbformat_minor": 0
}